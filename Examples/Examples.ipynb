{
 "cells": [
  {
   "cell_type": "code",
   "execution_count": null,
   "id": "4c531811-f15d-4ad9-9e40-f084440ab726",
   "metadata": {},
   "outputs": [],
   "source": [
    "import pynr as nr\n",
    "import matplotlib.pyplot as plt"
   ]
  },
  {
   "cell_type": "code",
   "execution_count": 2,
   "id": "2e7596af-a764-4099-94fd-28a65175d4be",
   "metadata": {},
   "outputs": [
    {
     "name": "stdout",
     "output_type": "stream",
     "text": [
      "Extracting and combining modes\n"
     ]
    }
   ],
   "source": [
    "hp_rit,hx_rit= nr.nr_waveform(code='RIT',\n",
    "                              pycbc_format=True,\n",
    "    rit_root_folder='/work/francisco.jimenez/RIT/Data',\n",
    "    download_Q = True,\n",
    "    tag = 'RIT:BBH:0001',\n",
    "    modes  = [[2,2],[2,-2]],\n",
    "    mass  = 100,\n",
    "    distance  = 100,\n",
    "    inclination = 0,\n",
    "    coa_phase = 0,\n",
    "    modes_combined = True,\n",
    "    delta_t = 1/1024,\n",
    "    tapering = False,\n",
    "    RD = True,\n",
    "    zero_align = True )"
   ]
  },
  {
   "cell_type": "code",
   "execution_count": 3,
   "id": "8b544bba-557f-4ef7-ad92-a0987b63c6b4",
   "metadata": {},
   "outputs": [
    {
     "name": "stdout",
     "output_type": "stream",
     "text": [
      "Skipping download from 'https://data.black-holes.org/catalog.json' because local file is newer\n"
     ]
    },
    {
     "name": "stderr",
     "output_type": "stream",
     "text": [
      "/work/francisco.jimenez/venv_sc/lib/python3.7/site-packages/sxs/waveforms/nrar.py:173: UserWarning: \n",
      "Could not find root group as `h5_group` or as `extrapolation_order`; returning all groups\n",
      "  warnings.warn(warning)\n"
     ]
    },
    {
     "name": "stdout",
     "output_type": "stream",
     "text": [
      "Extracting and combining modes\n"
     ]
    }
   ],
   "source": [
    "hp_sxs,hx_sxs= nr.nr_waveform(code='SXS',pycbc_format=True,\n",
    "    download_Q = True,\n",
    "    tag = 'SXS:BBH:0305',\n",
    "    extrapolation_order = 2,\n",
    "    resolution_level = -1,\n",
    "    modes  = [[2,2],[2,-2]],\n",
    "    mass  = 100,\n",
    "    distance  = 100,\n",
    "    inclination = 0,\n",
    "    coa_phase = 0,\n",
    "    modes_combined = True,\n",
    "    delta_t = 1/1024,\n",
    "    tapering = False,\n",
    "    RD = True,\n",
    "    zero_align = True )"
   ]
  },
  {
   "cell_type": "code",
   "execution_count": 4,
   "id": "cf256646-6d25-4c3c-8d19-aa5f7fc8eb53",
   "metadata": {},
   "outputs": [
    {
     "data": {
      "text/plain": [
       "[<matplotlib.lines.Line2D at 0x7fca1e0a4080>]"
      ]
     },
     "execution_count": 4,
     "metadata": {},
     "output_type": "execute_result"
    },
    {
     "data": {
      "image/png": "[encoded data removed]",
      "text/plain": [
       "<Figure size 432x288 with 1 Axes>"
      ]
     },
     "metadata": {
      "needs_background": "light"
     },
     "output_type": "display_data"
    }
   ],
   "source": [
    "plt.plot(hp_rit.sample_times,hp_rit)\n",
    "plt.plot(hp_sxs.sample_times,hp_sxs)"
   ]
  },
  {
   "cell_type": "code",
   "execution_count": null,
   "id": "f9ce478e-d718-43eb-a976-6c70072f0a02",
   "metadata": {},
   "outputs": [],
   "source": []
  }
 ],
 "metadata": {
  "kernelspec": {
   "display_name": "Python 3",
   "language": "python",
   "name": "python3"
  },
  "language_info": {
   "codemirror_mode": {
    "name": "ipython",
    "version": 3
   },
   "file_extension": ".py",
   "mimetype": "text/x-python",
   "name": "python",
   "nbconvert_exporter": "python",
   "pygments_lexer": "ipython3",
   "version": "3.7.3"
  }
 },
 "nbformat": 4,
 "nbformat_minor": 5
}
